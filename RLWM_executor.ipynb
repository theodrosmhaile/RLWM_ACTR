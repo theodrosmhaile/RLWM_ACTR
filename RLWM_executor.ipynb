{
 "cells": [
  {
   "cell_type": "code",
   "execution_count": 1,
   "metadata": {},
   "outputs": [
    {
     "name": "stdout",
     "output_type": "stream",
     "text": [
      "ACT-R connection has been started.\n"
     ]
    }
   ],
   "source": [
    "import random as rnd\n",
    "import numpy as np\n",
    "import os\n",
    "import sys\n",
    "import string\n",
    "import actr\n",
    "\n",
    "\n",
    "        "
   ]
  },
  {
   "cell_type": "code",
   "execution_count": 16,
   "metadata": {},
   "outputs": [],
   "source": [
    "\n",
    "#get response\n",
    "\n",
    "#present feedback\n",
    "#list stim. \n",
    "stims_3 = ['cup','bowl','plate']\n",
    "stims_6 = ['hat','gloves','shoes', 'shirt', 'jacket', 'jeans']\n",
    "\n",
    "stims = None\n",
    "chunks = None\n",
    "current_response = None\n",
    "i = 0\n",
    "\n",
    "#index i needs defining\n",
    "\n",
    "#Daisy chained python functions to present stimuli, get response and  present feedback\n",
    "\n",
    "def present_stim():\n",
    "    global chunks\n",
    "    chunks = actr.define_chunks(['isa', 'stimulus', 'picture', stims[i]])\n",
    "   \n",
    "    actr.set_buffer_chunk('visual', chunks[0])\n",
    "    \n",
    "    \n",
    "def present_feedback():\n",
    "    feedback = 'no'\n",
    "    if current_response == 'j':\n",
    "        feedback = 'yes'\n",
    "        \n",
    "    chunks_feedback = actr.define_chunks(['isa', 'feedback', 'feedback',feedback])\n",
    "    actr.set_buffer_chunk('visual', chunks_feedback[0])\n",
    "    actr.schedule_event_relative(1, 'present_stim')\n",
    "    \n",
    "def get_response(model, key):\n",
    "    global current_response\n",
    "    global i\n",
    "    current_response = key\n",
    "    actr.schedule_event_relative(0, 'present_feedback')\n",
    "    i = i + 1\n",
    "\n",
    "def make_random_stim_list(LIST):\n",
    "    return rnd.choices(LIST, k=50)\n",
    "\n",
    "# This function builds ACT-R representations of the python functions\n",
    "\n",
    "def model_loop():\n",
    "    \n",
    "    actr.add_command('present_stim', present_stim, 'presents stimulus') \n",
    "    actr.add_command('present_feedback', present_feedback, 'presents feedback')\n",
    "    actr.add_command('get_response', get_response, 'gets response')\n",
    "    \n",
    "    actr.monitor_command('output-key', 'get_response')\n",
    "    actr.schedule_event_relative(0, 'present_stim' )\n",
    "    \n",
    "\n",
    "stims = make_random_stim_list(stims_6)   \n",
    "#I think this needs a simulator?\n",
    "#def simulator():\n",
    "#actr.run(1)    \n",
    "\n",
    "      \n",
    "\n"
   ]
  },
  {
   "cell_type": "code",
   "execution_count": 17,
   "metadata": {},
   "outputs": [
    {
     "name": "stdout",
     "output_type": "stream",
     "text": [
      "Command  present_stim  already exists and is now being replaced by  <function present_stim at 0x7f1db175cae8>\n",
      "Command  present_feedback  already exists and is now being replaced by  <function present_feedback at 0x7f1db175cb70>\n",
      "Command  get_response  already exists and is now being replaced by  <function get_response at 0x7f1db175cbf8>\n",
      "Command \"get_response\" already on the after list for command \"output-key\".\n"
     ]
    }
   ],
   "source": [
    "model_loop()\n"
   ]
  },
  {
   "cell_type": "code",
   "execution_count": 18,
   "metadata": {
    "scrolled": false
   },
   "outputs": [
    {
     "name": "stdout",
     "output_type": "stream",
     "text": [
      "#|Warning: Creating chunk YES with no slots |#\n",
      "#|Warning: Chunks extended with slot PREPARATION during a chunk-spec definition. |#\n",
      "#|Warning: Chunks extended with slot PROCESSOR during a chunk-spec definition. |#\n",
      "#|Warning: Chunks extended with slot EXECUTION during a chunk-spec definition. |#\n",
      "#|Warning: Creating chunk CUP with no slots |#\n",
      "#|Warning: Creating chunk BOWL with no slots |#\n",
      "#|Warning: Creating chunk PLATE with no slots |#\n",
      "#|Warning: Creating chunk HAT with no slots |#\n",
      "#|Warning: Creating chunk GLOVES with no slots |#\n",
      "#|Warning: Creating chunk SHOES with no slots |#\n",
      "#|Warning: Creating chunk SHIRT with no slots |#\n",
      "#|Warning: Creating chunk JACKET with no slots |#\n",
      "#|Warning: Creating chunk JEANS with no slots |#\n",
      "#|Warning: Creating chunk NO with no slots |#\n",
      "#|Warning: set-buffer-chunk called with an invalid chunk name CUP-STIMULUS |#\n"
     ]
    },
    {
     "data": {
      "text/plain": [
       "['jacket',\n",
       " 'shoes',\n",
       " 'jacket',\n",
       " 'hat',\n",
       " 'hat',\n",
       " 'shirt',\n",
       " 'hat',\n",
       " 'shirt',\n",
       " 'shirt',\n",
       " 'shirt',\n",
       " 'shirt',\n",
       " 'shoes',\n",
       " 'hat',\n",
       " 'jacket',\n",
       " 'jacket',\n",
       " 'hat',\n",
       " 'gloves',\n",
       " 'gloves',\n",
       " 'shirt',\n",
       " 'gloves',\n",
       " 'gloves',\n",
       " 'jeans',\n",
       " 'gloves',\n",
       " 'jeans',\n",
       " 'gloves',\n",
       " 'shoes',\n",
       " 'jeans',\n",
       " 'hat',\n",
       " 'jacket',\n",
       " 'shirt',\n",
       " 'shoes',\n",
       " 'jeans',\n",
       " 'jacket',\n",
       " 'jeans',\n",
       " 'shirt',\n",
       " 'gloves',\n",
       " 'jeans',\n",
       " 'jacket',\n",
       " 'shirt',\n",
       " 'jeans',\n",
       " 'hat',\n",
       " 'jeans',\n",
       " 'shirt',\n",
       " 'shoes',\n",
       " 'shirt',\n",
       " 'jacket',\n",
       " 'jeans',\n",
       " 'jacket',\n",
       " 'jacket',\n",
       " 'gloves']"
      ]
     },
     "execution_count": 18,
     "metadata": {},
     "output_type": "execute_result"
    }
   ],
   "source": [
    "actr.load_act_r_model('~/RLWM_ACTR/rlwm_model1.lisp')\n",
    "\n",
    "stims\n"
   ]
  },
  {
   "cell_type": "code",
   "execution_count": 19,
   "metadata": {},
   "outputs": [
    {
     "data": {
      "text/plain": [
       "0"
      ]
     },
     "execution_count": 19,
     "metadata": {},
     "output_type": "execute_result"
    }
   ],
   "source": [
    "i"
   ]
  },
  {
   "cell_type": "code",
   "execution_count": 13,
   "metadata": {},
   "outputs": [
    {
     "data": {
      "text/plain": [
       "['STIMULUS0']"
      ]
     },
     "execution_count": 13,
     "metadata": {},
     "output_type": "execute_result"
    }
   ],
   "source": [
    "chunks"
   ]
  },
  {
   "cell_type": "code",
   "execution_count": null,
   "metadata": {},
   "outputs": [],
   "source": []
  }
 ],
 "metadata": {
  "kernelspec": {
   "display_name": "Python 3",
   "language": "python",
   "name": "python3"
  },
  "language_info": {
   "codemirror_mode": {
    "name": "ipython",
    "version": 3
   },
   "file_extension": ".py",
   "mimetype": "text/x-python",
   "name": "python",
   "nbconvert_exporter": "python",
   "pygments_lexer": "ipython3",
   "version": "3.7.3"
  }
 },
 "nbformat": 4,
 "nbformat_minor": 2
}
