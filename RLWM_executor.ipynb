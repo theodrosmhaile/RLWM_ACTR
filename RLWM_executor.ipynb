{
 "cells": [
  {
   "cell_type": "code",
   "execution_count": 27,
   "metadata": {},
   "outputs": [],
   "source": [
    "import random as rnd\n",
    "import numpy as np\n",
    "import os\n",
    "import sys\n",
    "import string\n",
    "import actr\n",
    "\n",
    "\n",
    "        "
   ]
  },
  {
   "cell_type": "code",
   "execution_count": 37,
   "metadata": {},
   "outputs": [],
   "source": [
    "\n",
    "#get response\n",
    "\n",
    "#present feedback\n",
    "#list stim. \n",
    "stims_3 = ['cup','bowl','plate']\n",
    "stims_6 = ['hat','gloves','shoes', 'shirt', 'jacket', 'jeans']\n",
    "\n",
    "#associated responses (these are arbitrary)\n",
    "stims_3_resps = ['j', 'k', 'k'];\n",
    "stims_6_resps = ['k','k', 'j', 'j', 'l', 'l'];\n",
    "\n",
    "stims = None\n",
    "chunks = None\n",
    "current_response = None\n",
    "cor_resps = None\n",
    "i = 0\n",
    "\n",
    "#index i needs defining\n",
    "\n",
    "#Daisy chained python functions to present stimuli, get response and  present feedback\n",
    "\n",
    "def present_stim():\n",
    "    global chunks\n",
    "    global stims\n",
    "    global i\n",
    "    chunks = actr.define_chunks(['isa', 'stimulus', 'picture', stims[i]])\n",
    "    actr.set_buffer_chunk('visual', chunks[0])\n",
    "    print('done')\n",
    "    print(i)\n",
    "    \n",
    "    \n",
    "def present_feedback():\n",
    "    feedback = 'no'\n",
    " \n",
    "    # check if response matches the appropriate key for the current stimulus in cue\n",
    "    if current_response == cor_resps[i]:\n",
    "        feedback = 'yes'\n",
    "    \n",
    "    chunks = actr.define_chunks(['isa', 'feedback', 'feedback',feedback])\n",
    "    actr.set_buffer_chunk('visual', chunks[0])\n",
    "    actr.schedule_event_relative(1, 'present_stim')\n",
    "    \n",
    "def get_response(model, key):\n",
    "    global current_response\n",
    "    global i\n",
    "    current_response = key\n",
    "    actr.schedule_event_relative(0, 'present_feedback')\n",
    "    i = i + 1\n",
    "\n",
    "def make_random_stim_list(LIST):\n",
    "    return rnd.choices(LIST, k=50)\n",
    "\n",
    "# This function builds ACT-R representations of the python functions\n",
    "\n",
    "def model_loop():\n",
    "    \n",
    "    actr.add_command('present_stim', present_stim, 'presents stimulus') \n",
    "    actr.add_command('present_feedback', present_feedback, 'presents feedback')\n",
    "    actr.add_command('get_response', get_response, 'gets response')\n",
    "    \n",
    "    actr.monitor_command('output-key', 'get_response')\n",
    "    actr.schedule_event_relative(0, 'present_stim' )\n",
    "    \n",
    "\n",
    "#stims = make_random_stim_list(stims_6)   \n",
    "#I think this needs a simulator?\n",
    "#def simulator():\n",
    "#actr.run(1)    \n",
    "\n",
    "      \n",
    "\n"
   ]
  },
  {
   "cell_type": "code",
   "execution_count": null,
   "metadata": {},
   "outputs": [],
   "source": [
    "model_loop()\n"
   ]
  },
  {
   "cell_type": "code",
   "execution_count": 5,
   "metadata": {
    "scrolled": false
   },
   "outputs": [
    {
     "name": "stdout",
     "output_type": "stream",
     "text": [
      "#|Warning: Creating chunk YES with no slots |#\n",
      "#|Warning: Creating chunk CUP with no slots |#\n",
      "#|Warning: Creating chunk BOWL with no slots |#\n",
      "#|Warning: Creating chunk PLATE with no slots |#\n",
      "#|Warning: Creating chunk HAT with no slots |#\n",
      "#|Warning: Creating chunk GLOVES with no slots |#\n",
      "#|Warning: Creating chunk SHOES with no slots |#\n",
      "#|Warning: Creating chunk SHIRT with no slots |#\n",
      "#|Warning: Creating chunk JACKET with no slots |#\n",
      "#|Warning: Creating chunk JEANS with no slots |#\n",
      "#|Warning: Creating chunk NO with no slots |#\n",
      "#|Warning: set-buffer-chunk called with an invalid chunk name CUP-STIMULUS |#\n",
      "#|Warning: Creating chunk POPTART with no slots |#\n"
     ]
    }
   ],
   "source": [
    "actr.load_act_r_model('/home/theodros/RLWM_ACTR/rlwm_model1.lisp')\n",
    "chunks=actr.define_chunks(['poptart-k', 'isa', 'stimulus', 'picture', 'Poptart'])\n"
   ]
  },
  {
   "cell_type": "code",
   "execution_count": 8,
   "metadata": {},
   "outputs": [
    {
     "data": {
      "text/plain": [
       "'POPTART-K-0'"
      ]
     },
     "execution_count": 8,
     "metadata": {},
     "output_type": "execute_result"
    }
   ],
   "source": [
    " actr.set_buffer_chunk('visual', chunks[0])\n",
    "    "
   ]
  },
  {
   "cell_type": "code",
   "execution_count": 19,
   "metadata": {},
   "outputs": [],
   "source": [
    "stims_3_resps = ['j', 'k', 'k'];\n",
    "idx = np.array(rnd.choices([1,2,3], k=20))"
   ]
  },
  {
   "cell_type": "code",
   "execution_count": 38,
   "metadata": {},
   "outputs": [
    {
     "name": "stdout",
     "output_type": "stream",
     "text": [
      "['plate', 'cup', 'plate', 'plate', 'plate', 'cup', 'cup', 'plate', 'cup', 'plate', 'cup', 'plate', 'bowl', 'plate', 'plate', 'cup', 'cup', 'cup', 'plate', 'plate', 'plate', 'cup', 'bowl', 'cup', 'bowl', 'bowl', 'bowl', 'bowl', 'bowl', 'plate', 'bowl', 'plate', 'bowl', 'bowl', 'cup', 'plate', 'bowl', 'plate', 'plate', 'cup', 'cup', 'cup', 'bowl', 'plate', 'cup', 'bowl', 'bowl', 'plate', 'plate', 'bowl']\n",
      "done\n",
      "0\n"
     ]
    }
   ],
   "source": [
    "stims = make_random_stim_list(stims_3)\n",
    "print(stims)\n",
    "\n",
    "present_stim()"
   ]
  },
  {
   "cell_type": "code",
   "execution_count": 45,
   "metadata": {},
   "outputs": [
    {
     "name": "stdout",
     "output_type": "stream",
     "text": [
      "#|Warning: Creating chunk YES with no slots |#\n",
      "#|Warning: Creating chunk CUP with no slots |#\n",
      "#|Warning: Creating chunk BOWL with no slots |#\n",
      "#|Warning: Creating chunk PLATE with no slots |#\n",
      "#|Warning: Creating chunk HAT with no slots |#\n",
      "#|Warning: Creating chunk GLOVES with no slots |#\n",
      "#|Warning: Creating chunk SHOES with no slots |#\n",
      "#|Warning: Creating chunk SHIRT with no slots |#\n",
      "#|Warning: Creating chunk JACKET with no slots |#\n",
      "#|Warning: Creating chunk JEANS with no slots |#\n",
      "#|Warning: Creating chunk NO with no slots |#\n",
      "#|Warning: set-buffer-chunk called with an invalid chunk name CUP-STIMULUS |#\n"
     ]
    }
   ],
   "source": [
    "model = actr.load_act_r_model('/home/theodros/RLWM_ACTR/rlwm_model1.lisp')\n"
   ]
  },
  {
   "cell_type": "code",
   "execution_count": 43,
   "metadata": {},
   "outputs": [
    {
     "name": "stdout",
     "output_type": "stream",
     "text": [
      "Command  present_stim  already exists for function  <function present_stim at 0x7f257ef31830>\n",
      "Command  present_feedback  already exists for function  <function present_feedback at 0x7f257ef31290>\n",
      "Command  get_response  already exists for function  <function get_response at 0x7f257ef31200>\n",
      "Command \"get_response\" already on the after list for command \"output-key\".\n"
     ]
    }
   ],
   "source": [
    "model_loop()\n",
    "#present_stim()"
   ]
  },
  {
   "cell_type": "code",
   "execution_count": 44,
   "metadata": {},
   "outputs": [
    {
     "name": "stdout",
     "output_type": "stream",
     "text": [
      "done\n",
      "0\n"
     ]
    }
   ],
   "source": [
    "present_stim()"
   ]
  },
  {
   "cell_type": "code",
   "execution_count": 46,
   "metadata": {},
   "outputs": [
    {
     "name": "stdout",
     "output_type": "stream",
     "text": [
      "True\n"
     ]
    }
   ],
   "source": [
    "print(model)"
   ]
  },
  {
   "cell_type": "code",
   "execution_count": 47,
   "metadata": {},
   "outputs": [
    {
     "name": "stdout",
     "output_type": "stream",
     "text": [
      "Variable                Type        Data/Info\n",
      "---------------------------------------------\n",
      "actr                    module      <module 'actr' from '/hom<...>odros/RLWM_ACTR/actr.py'>\n",
      "chunks                  list        n=1\n",
      "cor_resps               NoneType    None\n",
      "current_response        NoneType    None\n",
      "get_response            function    <function get_response at 0x7f257ef31200>\n",
      "i                       int         0\n",
      "idx                     ndarray     20: 20 elems, type `int64`, 160 bytes\n",
      "make_random_stim_list   function    <function make_random_sti<...>m_list at 0x7f257ef313b0>\n",
      "model                   bool        True\n",
      "model_loop              function    <function model_loop at 0x7f257ef31170>\n",
      "np                      module      <module 'numpy' from '/ho<...>kages/numpy/__init__.py'>\n",
      "os                      module      <module 'os' from '/home/<...>da3/lib/python3.7/os.py'>\n",
      "present_feedback        function    <function present_feedback at 0x7f257ef31290>\n",
      "present_stim            function    <function present_stim at 0x7f257ef31830>\n",
      "rnd                     module      <module 'random' from '/h<...>lib/python3.7/random.py'>\n",
      "stims                   list        n=50\n",
      "stims_3                 list        n=3\n",
      "stims_3_resps           list        n=3\n",
      "stims_6                 list        n=6\n",
      "stims_6_resps           list        n=6\n",
      "string                  module      <module 'string' from '/h<...>lib/python3.7/string.py'>\n",
      "sys                     module      <module 'sys' (built-in)>\n"
     ]
    }
   ],
   "source": [
    "whos"
   ]
  },
  {
   "cell_type": "code",
   "execution_count": null,
   "metadata": {},
   "outputs": [],
   "source": []
  }
 ],
 "metadata": {
  "kernelspec": {
   "display_name": "Python 3",
   "language": "python",
   "name": "python3"
  },
  "language_info": {
   "codemirror_mode": {
    "name": "ipython",
    "version": 3
   },
   "file_extension": ".py",
   "mimetype": "text/x-python",
   "name": "python",
   "nbconvert_exporter": "python",
   "pygments_lexer": "ipython3",
   "version": "3.7.4"
  }
 },
 "nbformat": 4,
 "nbformat_minor": 2
}
