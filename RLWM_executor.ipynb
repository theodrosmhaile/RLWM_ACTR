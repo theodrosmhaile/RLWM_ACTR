{
 "cells": [
  {
   "cell_type": "code",
   "execution_count": null,
   "metadata": {},
   "outputs": [],
   "source": [
    "import random as rnd\n",
    "import numpy as np\n",
    "import os\n",
    "import sys\n",
    "import string\n",
    "import actr\n",
    "\n",
    "\n",
    "        "
   ]
  },
  {
   "cell_type": "code",
   "execution_count": null,
   "metadata": {},
   "outputs": [],
   "source": [
    "model = actr.load_act_r_model('/home/master-tedward/RLWM_ACTR/rlwm_model1.lisp')\n",
    "\n",
    "\n",
    "#present feedback\n",
    "#list stim. \n",
    "stims_3 = ['cup','bowl','plate']\n",
    "stims_6 = ['hat','gloves','shoes', 'shirt', 'jacket', 'jeans']\n",
    "\n",
    "#associated responses (these are arbitrary)\n",
    "stims_3_resps = ['j', 'k', 'k'];\n",
    "stims_6_resps = ['k','k', 'j', 'j', 'l', 'l'];\n",
    "\n",
    "stims = rnd.choices(stims_3, k=25)\n",
    "chunks = None\n",
    "current_response = None\n",
    "cor_resps = None\n",
    "i = 0\n",
    "win = None\n",
    "#index i needs defining\n",
    "\n",
    "#Daisy chained python functions to present stimuli, get response and  present feedback\n",
    "\n",
    "def present_stim():\n",
    "    global chunks\n",
    "    global stims\n",
    "    global i\n",
    "    chunks = actr.define_chunks(['isa', 'stimulus', 'picture', stims[i]])\n",
    "    actr.set_buffer_chunk('visual', chunks[0])\n",
    "    \n",
    "    print(i)\n",
    "    \n",
    "    \n",
    "def present_feedback():\n",
    "    feedback = 'no'\n",
    " \n",
    "    # check if response matches the appropriate key for the current stimulus in cue\n",
    "    #need list of correct responses\n",
    "    if current_response == cor_resps[i]:\n",
    "        feedback = 'yes'\n",
    "    \n",
    "    chunks = actr.define_chunks(['isa', 'feedback', 'feedback',feedback])\n",
    "    actr.set_buffer_chunk('visual', chunks[0])\n",
    "    actr.schedule_event_relative(1, 'present_stim')\n",
    "    \n",
    "def get_response(): #(model, key):\n",
    "    global current_response\n",
    "    global i\n",
    "    #current_response = key\n",
    "    actr.schedule_event_relative(0, 'present_feedback')\n",
    "    i = i + 1\n",
    "\n",
    "def make_random_stim_list(LIST):\n",
    "    return rnd.choices(LIST, k=50)\n",
    "\n",
    "# This function builds ACT-R representations of the python functions\n",
    "\n",
    "def model_loop():\n",
    "    global win\n",
    "    actr.add_command('present_stim', present_stim, 'presents stimulus') \n",
    "    actr.add_command('present_feedback', present_feedback, 'presents feedback')\n",
    "    actr.add_command('get_response', get_response, 'gets response')\n",
    "    \n",
    "    #open window for interaction\n",
    "    win = actr.open_exp_window(\"test\", visible=True)\n",
    "    actr.install_device(win)\n",
    "    actr.schedule_event_relative(0, 'present_stim' )\n",
    "    \n",
    "    #waits for a key press?\n",
    "    actr.monitor_command('output-key', 'get_response')\n",
    "    \n",
    "    \n",
    "\n",
    "#stims = make_random_stim_list(stims_6)   \n",
    "#I think this needs a simulator?\n",
    "#def simulator():\n",
    "#actr.run(1)    \n",
    "model_loop()\n",
    "      \n",
    "\n"
   ]
  },
  {
   "cell_type": "code",
   "execution_count": null,
   "metadata": {},
   "outputs": [],
   "source": [
    "actr.set_buffer_chunk('visual', chunks[0])\n",
    "    "
   ]
  },
  {
   "cell_type": "code",
   "execution_count": null,
   "metadata": {},
   "outputs": [],
   "source": []
  },
  {
   "cell_type": "code",
   "execution_count": null,
   "metadata": {},
   "outputs": [],
   "source": [
    "whos"
   ]
  },
  {
   "cell_type": "code",
   "execution_count": null,
   "metadata": {},
   "outputs": [],
   "source": [
    "print(stims)"
   ]
  },
  {
   "cell_type": "code",
   "execution_count": null,
   "metadata": {},
   "outputs": [],
   "source": [
    "actr.mp_show_queue()"
   ]
  },
  {
   "cell_type": "code",
   "execution_count": null,
   "metadata": {},
   "outputs": [],
   "source": [
    "print(i)"
   ]
  },
  {
   "cell_type": "code",
   "execution_count": null,
   "metadata": {},
   "outputs": [],
   "source": []
  },
  {
   "cell_type": "code",
   "execution_count": null,
   "metadata": {},
   "outputs": [],
   "source": []
  }
 ],
 "metadata": {
  "kernelspec": {
   "display_name": "Python 3",
   "language": "python",
   "name": "python3"
  },
  "language_info": {
   "codemirror_mode": {
    "name": "ipython",
    "version": 3
   },
   "file_extension": ".py",
   "mimetype": "text/x-python",
   "name": "python",
   "nbconvert_exporter": "python",
   "pygments_lexer": "ipython3",
   "version": "3.7.3"
  }
 },
 "nbformat": 4,
 "nbformat_minor": 2
}
