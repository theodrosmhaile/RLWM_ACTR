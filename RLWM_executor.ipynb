{
 "cells": [
  {
   "cell_type": "markdown",
   "metadata": {},
   "source": [
    "### Python interface"
   ]
  },
  {
   "cell_type": "code",
   "execution_count": null,
   "metadata": {},
   "outputs": [],
   "source": [
    "import random as rnd\n",
    "import numpy as np\n",
    "import os\n",
    "import sys\n",
    "import string\n",
    "import actr\n",
    "import pandas as pd\n",
    "\n",
    "\n",
    "        "
   ]
  },
  {
   "cell_type": "code",
   "execution_count": null,
   "metadata": {},
   "outputs": [],
   "source": [
    "\n",
    "#Stimuli to be used and exp parameters\n",
    "stims_3 = ['cup','bowl','plate']\n",
    "stims_6 = ['hat','gloves','shoes', 'shirt', 'jacket', 'jeans']\n",
    "nPresentations = 12\n",
    "nTrials = nPresentations * 3 #for sets size three experiment/block\n",
    "\n",
    "#associated responses (these are arbitrary)\n",
    "stims_3_resps = ['j', 'k', 'l'];\n",
    "stims_6_resps = ['k','k', 'j', 'j', 'l', 'l'];\n",
    "\n",
    "#generate stimult to present to model **Edit as needed **\n",
    "\n",
    "#this shuffles both lists, stimuli and associated correct responses, in the same order\n",
    "stims_temp = list( zip(np.repeat(stims_3, 12).tolist(),\n",
    "         np.repeat(stims_3_resps,12).tolist()\n",
    "        ))\n",
    "\n",
    "rnd.shuffle(stims_temp)\n",
    "\n",
    "stims, cor_resps = zip(*stims_temp)\n"
   ]
  },
  {
   "cell_type": "markdown",
   "metadata": {},
   "source": [
    "### Python interface for Model 1"
   ]
  },
  {
   "cell_type": "code",
   "execution_count": null,
   "metadata": {
    "scrolled": false
   },
   "outputs": [],
   "source": [
    "#Load model\n",
    "model = actr.load_act_r_model('/home/theodros/RLWM_ACTR/rlwm_model1.lisp')\n",
    "\n",
    "\n",
    "#variables needed\n",
    "chunks = None\n",
    "current_response  = np.repeat('x', nTrials).tolist()\n",
    "accuracy = np.repeat(0, nTrials).tolist()\n",
    "\n",
    "i = 0\n",
    "win = None\n",
    "\n",
    "\n",
    "#Daisy chained python functions to present stimuli, get response and  present feedback\n",
    "\n",
    "def present_stim():\n",
    "    global chunks\n",
    "    global stims\n",
    "    global i\n",
    "   \n",
    "    chunks = actr.define_chunks(['isa', 'stimulus', 'picture', stims[i]])\n",
    "    actr.set_buffer_chunk('visual', chunks[0])\n",
    "    \n",
    "    print('Presented: ', stims[i])\n",
    "    print('correct response: ', cor_resps[i])   \n",
    "    \n",
    "def get_response(model, key):\n",
    "    global current_response\n",
    "    global i\n",
    "    \n",
    "    actr.schedule_event_relative(0, 'present_feedback')\n",
    "    \n",
    "    current_response[i] = key\n",
    "   \n",
    "    return current_response\n",
    "\n",
    "def present_feedback():\n",
    "    global i\n",
    "    global current_response\n",
    "    global accuracy\n",
    "    \n",
    "    feedback = 'no'\n",
    "     \n",
    "    # check if response matches the appropriate key for the current stimulus in cue\n",
    "    #need list of correct responses\n",
    "    if current_response[i] == cor_resps[i]:\n",
    "        feedback = 'yes'\n",
    "        accuracy[i] = 1\n",
    "    \n",
    "    chunks = actr.define_chunks(['isa', 'feedback', 'feedback',feedback])\n",
    "    actr.set_buffer_chunk('visual', chunks[0])\n",
    "    print(\"Feedback given: \", feedback )\n",
    "  \n",
    "    #increase index for next stimulus\n",
    "    i = i + 1\n",
    "    actr.schedule_event_relative(1, 'present_stim')\n",
    "    \n",
    "\n",
    "# This function builds ACT-R representations of the python functions\n",
    "\n",
    "def model_loop():\n",
    "    \n",
    "    global win\n",
    "    actr.add_command('present_stim', present_stim, 'presents stimulus') \n",
    "    actr.add_command('present_feedback', present_feedback, 'presents feedback')\n",
    "    actr.add_command('get_response', get_response, 'gets response')\n",
    "    \n",
    "    #open window for interaction\n",
    "    win = actr.open_exp_window(\"test\", visible = False)\n",
    "    actr.install_device(win)\n",
    "    actr.schedule_event_relative(0, 'present_stim' )\n",
    "    \n",
    "    #waits for a key press?\n",
    "    actr.monitor_command(\"output-key\", 'get_response')\n",
    "   
    "    actr.run(45)\n",
    "   \n",
    "\n",
    "\n",
    "\n",
    "\n",
    "\n",
    "model_loop()\n",
    "      \n",
    "print('mean accuracy: ', np.mean(accuracy))\n",
    "\n"
   ]
  },
  {
   "cell_type": "code",
   "execution_count": null,
   "metadata": {
    "scrolled": false
   },
   "outputs": [],
   "source": [
    "print(current_response)\n",
    "accuracy"
   ]
  },
  {
   "cell_type": "code",
   "execution_count": null,
   "metadata": {},
   "outputs": [],
   "source": [
    "print(stims)\n",
    "cor_resps"
   ]
  },
  {
   "cell_type": "markdown",
   "metadata": {},
   "source": [
    "### Response analysis\n"
   ]
  },
  {
   "cell_type": "code",
   "execution_count": null,
   "metadata": {},
   "outputs": [],
   "source": [
    "np.reshape(stims, (3,12), order='F').tolist()"
   ]
  },
  {
   "cell_type": "code",
   "execution_count": null,
   "metadata": {},
   "outputs": [],
   "source": [
    "\n"
   ]
  }
 ],
 "metadata": {
  "kernelspec": {
   "display_name": "Python 3",
   "language": "python",
   "name": "python3"
  },
  "language_info": {
   "codemirror_mode": {
    "name": "ipython",
    "version": 3
   },
   "file_extension": ".py",
   "mimetype": "text/x-python",
   "name": "python",
   "nbconvert_exporter": "python",
   "pygments_lexer": "ipython3",
   "version": "3.7.4"
  }
 },
 "nbformat": 4,
 "nbformat_minor": 2
}
