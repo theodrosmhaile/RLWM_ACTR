{
 "cells": [
  {
   "cell_type": "code",
   "execution_count": 1,
   "metadata": {},
   "outputs": [
    {
     "name": "stdout",
     "output_type": "stream",
     "text": [
      "ACT-R connection has been started.\n"
     ]
    }
   ],
   "source": [
    "import random as rnd\n",
    "import numpy as np\n",
    "import os\n",
    "import sys\n",
    "import string\n",
    "import actr\n",
    "\n",
    "\n",
    "        "
   ]
  },
  {
   "cell_type": "code",
   "execution_count": 53,
   "metadata": {},
   "outputs": [
    {
     "name": "stdout",
     "output_type": "stream",
     "text": [
      "#|Warning: Creating chunk YES with no slots |#\n",
      "#|Warning: Chunks extended with slot PREPARATION during a chunk-spec definition. |#\n",
      "#|Warning: Chunks extended with slot PROCESSOR during a chunk-spec definition. |#\n",
      "#|Warning: Chunks extended with slot EXECUTION during a chunk-spec definition. |#\n",
      "#|Warning: Creating chunk CUP with no slots |#\n",
      "#|Warning: Creating chunk BOWL with no slots |#\n",
      "#|Warning: Creating chunk PLATE with no slots |#\n",
      "#|Warning: Creating chunk HAT with no slots |#\n",
      "#|Warning: Creating chunk GLOVES with no slots |#\n",
      "#|Warning: Creating chunk SHOES with no slots |#\n",
      "#|Warning: Creating chunk SHIRT with no slots |#\n",
      "#|Warning: Creating chunk JACKET with no slots |#\n",
      "#|Warning: Creating chunk JEANS with no slots |#\n",
      "#|Warning: Creating chunk NO with no slots |#\n",
      "#|Warning: set-buffer-chunk called with an invalid chunk name CUP-STIMULUS |#\n"
     ]
    }
   ],
   "source": [
    "#connect to the model\n",
    "actr.load_act_r_model(\"~/RLWM_ACTR/rlwm_model1.lisp\")\n",
    "#get response\n",
    "\n",
    "#present feedback\n",
    "#list stim. \n",
    "stims_3 = ['cup','bowl','plate']\n",
    "stims_6 = ['hat','gloves','shoes', 'shirt', 'jacket', 'jeans']\n",
    "\n",
    "stims = None\n",
    "current_response = None\n",
    "i = 0\n",
    "#index i needs defining\n",
    "\n",
    "#Daisy chained python functions to present stimuli, get response and  present feedback\n",
    "\n",
    "def present_stim():\n",
    "    chunks = actr.define_chunks([['isa', 'stimulus', 'picture', stim]])\n",
    "    print(type(chunks))\n",
    "    #actr.set_buffer_chunk('visual', chunks[0])\n",
    "    \n",
    "    \n",
    "def present_feedback():\n",
    "    feedback = 'no'\n",
    "    if current_response == 'j':\n",
    "        feedback = 'yes'\n",
    "        \n",
    "    chunks = actr.define_chunks([['isa', 'feedback', 'feedback',feedback]])\n",
    "    actr.set_buffer_chunk('visual', chunks[0])\n",
    "    actr.schedule_event_relative(1, 'present_stim')\n",
    "    \n",
    "def get_response(model, key):\n",
    "    global current_response\n",
    "    current_response = key\n",
    "    actr.schedule_event_relative(0, 'present_feedback')\n",
    "\n",
    "def make_random_stim_list(LIST):\n",
    "    return rnd.choices(LIST, k=50)\n",
    "\n",
    "# This function build ACT-R representations of the python functions\n",
    "\n",
    "def model_loop():\n",
    "    #global stims\n",
    "    #stims = make_random_stim_list(stims_6)\n",
    "    actr.add_command('present_stim', present_stim, 'presents stimulus') \n",
    "    actr.add_command('present_feedback', present_feedback, 'presents feedback')\n",
    "    actr.add_command('get_response', get_response, 'gets response')\n",
    "    \n",
    "    actr.monitor_command('output-key', 'get_response')\n",
    "    actr.schedule_event_relative(0, 'present_stim' )\n",
    "    \n",
    "    #global i\n",
    "    #i += 1\n",
    "    #print(i)\n",
    "\n",
    "#def simulator():\n",
    "    \n",
    "\n",
    "      \n",
    "\n"
   ]
  },
  {
   "cell_type": "code",
   "execution_count": 54,
   "metadata": {},
   "outputs": [],
   "source": [
    "stims = make_random_stim_list(stims_6)\n"
   ]
  },
  {
   "cell_type": "code",
   "execution_count": 55,
   "metadata": {},
   "outputs": [
    {
     "name": "stdout",
     "output_type": "stream",
     "text": [
      "#|Warning: Invalid chunk definition: ((STIMNAME ISA STIMULUS PICTURE JACKET)) chunk name is not a valid symbol. |#\n",
      "<class 'NoneType'>\n",
      "#|Warning: Invalid chunk definition: ((STIMNAME ISA STIMULUS PICTURE SHIRT)) chunk name is not a valid symbol. |#\n",
      "<class 'NoneType'>\n",
      "#|Warning: Invalid chunk definition: ((STIMNAME ISA STIMULUS PICTURE JACKET)) chunk name is not a valid symbol. |#\n",
      "<class 'NoneType'>\n",
      "#|Warning: Invalid chunk definition: ((STIMNAME ISA STIMULUS PICTURE HAT)) chunk name is not a valid symbol. |#\n",
      "<class 'NoneType'>\n",
      "#|Warning: Invalid chunk definition: ((STIMNAME ISA STIMULUS PICTURE HAT)) chunk name is not a valid symbol. |#\n",
      "<class 'NoneType'>\n",
      "#|Warning: Invalid chunk definition: ((STIMNAME ISA STIMULUS PICTURE GLOVES)) chunk name is not a valid symbol. |#\n",
      "<class 'NoneType'>\n",
      "#|Warning: Invalid chunk definition: ((STIMNAME ISA STIMULUS PICTURE JACKET)) chunk name is not a valid symbol. |#\n",
      "<class 'NoneType'>\n",
      "#|Warning: Invalid chunk definition: ((STIMNAME ISA STIMULUS PICTURE SHIRT)) chunk name is not a valid symbol. |#\n",
      "<class 'NoneType'>\n",
      "#|Warning: Invalid chunk definition: ((STIMNAME ISA STIMULUS PICTURE SHIRT)) chunk name is not a valid symbol. |#\n",
      "<class 'NoneType'>\n",
      "#|Warning: Invalid chunk definition: ((STIMNAME ISA STIMULUS PICTURE HAT)) chunk name is not a valid symbol. |#\n",
      "<class 'NoneType'>\n",
      "#|Warning: Invalid chunk definition: ((STIMNAME ISA STIMULUS PICTURE SHOES)) chunk name is not a valid symbol. |#\n",
      "<class 'NoneType'>\n",
      "#|Warning: Invalid chunk definition: ((STIMNAME ISA STIMULUS PICTURE JACKET)) chunk name is not a valid symbol. |#\n",
      "<class 'NoneType'>\n",
      "#|Warning: Invalid chunk definition: ((STIMNAME ISA STIMULUS PICTURE JACKET)) chunk name is not a valid symbol. |#\n",
      "<class 'NoneType'>\n",
      "#|Warning: Invalid chunk definition: ((STIMNAME ISA STIMULUS PICTURE JACKET)) chunk name is not a valid symbol. |#\n",
      "<class 'NoneType'>\n",
      "#|Warning: Invalid chunk definition: ((STIMNAME ISA STIMULUS PICTURE SHIRT)) chunk name is not a valid symbol. |#\n",
      "<class 'NoneType'>\n",
      "#|Warning: Invalid chunk definition: ((STIMNAME ISA STIMULUS PICTURE GLOVES)) chunk name is not a valid symbol. |#\n",
      "<class 'NoneType'>\n",
      "#|Warning: Invalid chunk definition: ((STIMNAME ISA STIMULUS PICTURE JACKET)) chunk name is not a valid symbol. |#\n",
      "<class 'NoneType'>\n",
      "#|Warning: Invalid chunk definition: ((STIMNAME ISA STIMULUS PICTURE GLOVES)) chunk name is not a valid symbol. |#\n",
      "<class 'NoneType'>\n",
      "#|Warning: Invalid chunk definition: ((STIMNAME ISA STIMULUS PICTURE SHIRT)) chunk name is not a valid symbol. |#\n",
      "<class 'NoneType'>\n",
      "#|Warning: Invalid chunk definition: ((STIMNAME ISA STIMULUS PICTURE JEANS)) chunk name is not a valid symbol. |#\n",
      "<class 'NoneType'>\n",
      "#|Warning: Invalid chunk definition: ((STIMNAME ISA STIMULUS PICTURE GLOVES)) chunk name is not a valid symbol. |#\n",
      "<class 'NoneType'>\n",
      "#|Warning: Invalid chunk definition: ((STIMNAME ISA STIMULUS PICTURE JEANS)) chunk name is not a valid symbol. |#\n",
      "<class 'NoneType'>\n",
      "#|Warning: Invalid chunk definition: ((STIMNAME ISA STIMULUS PICTURE JACKET)) chunk name is not a valid symbol. |#\n",
      "<class 'NoneType'>\n",
      "#|Warning: Invalid chunk definition: ((STIMNAME ISA STIMULUS PICTURE JEANS)) chunk name is not a valid symbol. |#\n",
      "<class 'NoneType'>\n",
      "#|Warning: Invalid chunk definition: ((STIMNAME ISA STIMULUS PICTURE JACKET)) chunk name is not a valid symbol. |#\n",
      "<class 'NoneType'>\n",
      "#|Warning: Invalid chunk definition: ((STIMNAME ISA STIMULUS PICTURE SHOES)) chunk name is not a valid symbol. |#\n",
      "<class 'NoneType'>\n",
      "#|Warning: Invalid chunk definition: ((STIMNAME ISA STIMULUS PICTURE GLOVES)) chunk name is not a valid symbol. |#\n",
      "<class 'NoneType'>\n",
      "#|Warning: Invalid chunk definition: ((STIMNAME ISA STIMULUS PICTURE JEANS)) chunk name is not a valid symbol. |#\n",
      "<class 'NoneType'>\n",
      "#|Warning: Invalid chunk definition: ((STIMNAME ISA STIMULUS PICTURE JACKET)) chunk name is not a valid symbol. |#\n",
      "<class 'NoneType'>\n",
      "#|Warning: Invalid chunk definition: ((STIMNAME ISA STIMULUS PICTURE GLOVES)) chunk name is not a valid symbol. |#\n",
      "<class 'NoneType'>\n",
      "#|Warning: Invalid chunk definition: ((STIMNAME ISA STIMULUS PICTURE JEANS)) chunk name is not a valid symbol. |#\n",
      "<class 'NoneType'>\n",
      "#|Warning: Invalid chunk definition: ((STIMNAME ISA STIMULUS PICTURE JACKET)) chunk name is not a valid symbol. |#\n",
      "<class 'NoneType'>\n",
      "#|Warning: Invalid chunk definition: ((STIMNAME ISA STIMULUS PICTURE HAT)) chunk name is not a valid symbol. |#\n",
      "<class 'NoneType'>\n",
      "#|Warning: Invalid chunk definition: ((STIMNAME ISA STIMULUS PICTURE HAT)) chunk name is not a valid symbol. |#\n",
      "<class 'NoneType'>\n",
      "#|Warning: Invalid chunk definition: ((STIMNAME ISA STIMULUS PICTURE JACKET)) chunk name is not a valid symbol. |#\n",
      "<class 'NoneType'>\n",
      "#|Warning: Invalid chunk definition: ((STIMNAME ISA STIMULUS PICTURE JACKET)) chunk name is not a valid symbol. |#\n",
      "<class 'NoneType'>\n",
      "#|Warning: Invalid chunk definition: ((STIMNAME ISA STIMULUS PICTURE SHOES)) chunk name is not a valid symbol. |#\n",
      "<class 'NoneType'>\n",
      "#|Warning: Invalid chunk definition: ((STIMNAME ISA STIMULUS PICTURE HAT)) chunk name is not a valid symbol. |#\n",
      "<class 'NoneType'>\n",
      "#|Warning: Invalid chunk definition: ((STIMNAME ISA STIMULUS PICTURE HAT)) chunk name is not a valid symbol. |#\n",
      "<class 'NoneType'>\n",
      "#|Warning: Invalid chunk definition: ((STIMNAME ISA STIMULUS PICTURE HAT)) chunk name is not a valid symbol. |#\n",
      "<class 'NoneType'>\n",
      "#|Warning: Invalid chunk definition: ((STIMNAME ISA STIMULUS PICTURE JEANS)) chunk name is not a valid symbol. |#\n",
      "<class 'NoneType'>\n",
      "#|Warning: Invalid chunk definition: ((STIMNAME ISA STIMULUS PICTURE SHOES)) chunk name is not a valid symbol. |#\n",
      "<class 'NoneType'>\n",
      "#|Warning: Invalid chunk definition: ((STIMNAME ISA STIMULUS PICTURE JACKET)) chunk name is not a valid symbol. |#\n",
      "<class 'NoneType'>\n",
      "#|Warning: Invalid chunk definition: ((STIMNAME ISA STIMULUS PICTURE GLOVES)) chunk name is not a valid symbol. |#\n",
      "<class 'NoneType'>\n",
      "#|Warning: Invalid chunk definition: ((STIMNAME ISA STIMULUS PICTURE JACKET)) chunk name is not a valid symbol. |#\n",
      "<class 'NoneType'>\n",
      "#|Warning: Invalid chunk definition: ((STIMNAME ISA STIMULUS PICTURE JEANS)) chunk name is not a valid symbol. |#\n",
      "<class 'NoneType'>\n",
      "#|Warning: Invalid chunk definition: ((STIMNAME ISA STIMULUS PICTURE SHIRT)) chunk name is not a valid symbol. |#\n",
      "<class 'NoneType'>\n",
      "#|Warning: Invalid chunk definition: ((STIMNAME ISA STIMULUS PICTURE JACKET)) chunk name is not a valid symbol. |#\n",
      "<class 'NoneType'>\n",
      "#|Warning: Invalid chunk definition: ((STIMNAME ISA STIMULUS PICTURE JACKET)) chunk name is not a valid symbol. |#\n",
      "<class 'NoneType'>\n",
      "#|Warning: Invalid chunk definition: ((STIMNAME ISA STIMULUS PICTURE GLOVES)) chunk name is not a valid symbol. |#\n",
      "<class 'NoneType'>\n"
     ]
    }
   ],
   "source": [
    "#model_loop()\n",
    "\n",
    "for stim in stims:\n",
    "    present_stim()\n"
   ]
  },
  {
   "cell_type": "code",
   "execution_count": 51,
   "metadata": {},
   "outputs": [
    {
     "data": {
      "text/plain": [
       "'jacket'"
      ]
     },
     "execution_count": 51,
     "metadata": {},
     "output_type": "execute_result"
    }
   ],
   "source": []
  },
  {
   "cell_type": "code",
   "execution_count": 18,
   "metadata": {},
   "outputs": [],
   "source": [
    "\n",
    "    "
   ]
  },
  {
   "cell_type": "code",
   "execution_count": 19,
   "metadata": {},
   "outputs": [
    {
     "data": {
      "text/plain": [
       "[0.0,\n",
       " 0.8414709848078965,\n",
       " 0.9092974268256817,\n",
       " 0.1411200080598672,\n",
       " -0.7568024953079282,\n",
       " -0.9589242746631385,\n",
       " -0.27941549819892586,\n",
       " 0.6569865987187891,\n",
       " 0.9893582466233818,\n",
       " 0.4121184852417566,\n",
       " -0.5440211108893698,\n",
       " -0.9999902065507035,\n",
       " -0.5365729180004349,\n",
       " 0.4201670368266409,\n",
       " 0.9906073556948704,\n",
       " 0.6502878401571168,\n",
       " -0.2879033166650653,\n",
       " -0.9613974918795568,\n",
       " -0.750987246771676,\n",
       " 0.14987720966295234,\n",
       " 0.9129452507276277,\n",
       " 0.8366556385360561,\n",
       " -0.008851309290403876,\n",
       " -0.8462204041751706,\n",
       " -0.9055783620066239,\n",
       " -0.13235175009777303,\n",
       " 0.7625584504796027,\n",
       " 0.956375928404503,\n",
       " 0.27090578830786904,\n",
       " -0.6636338842129675,\n",
       " -0.9880316240928618,\n",
       " -0.404037645323065,\n",
       " 0.5514266812416906,\n",
       " 0.9999118601072672,\n",
       " 0.5290826861200238,\n",
       " -0.428182669496151,\n",
       " -0.9917788534431158,\n",
       " -0.6435381333569995,\n",
       " 0.2963685787093853,\n",
       " 0.9637953862840878,\n",
       " 0.7451131604793488,\n",
       " -0.158622668804709,\n",
       " -0.9165215479156338,\n",
       " -0.8317747426285983,\n",
       " 0.017701925105413577,\n",
       " 0.8509035245341184,\n",
       " 0.9017883476488092,\n",
       " 0.123573122745224,\n",
       " -0.7682546613236668,\n",
       " -0.9537526527594719]"
      ]
     },
     "execution_count": 19,
     "metadata": {},
     "output_type": "execute_result"
    }
   ],
   "source": [
    "l"
   ]
  },
  {
   "cell_type": "code",
   "execution_count": 16,
   "metadata": {},
   "outputs": [
    {
     "data": {
      "text/plain": [
       "array([0, 1, 2, 3, 4, 5, 6, 7, 8, 9])"
      ]
     },
     "execution_count": 16,
     "metadata": {},
     "output_type": "execute_result"
    }
   ],
   "source": []
  },
  {
   "cell_type": "code",
   "execution_count": null,
   "metadata": {},
   "outputs": [],
   "source": []
  }
 ],
 "metadata": {
  "kernelspec": {
   "display_name": "Python 3",
   "language": "python",
   "name": "python3"
  },
  "language_info": {
   "codemirror_mode": {
    "name": "ipython",
    "version": 3
   },
   "file_extension": ".py",
   "mimetype": "text/x-python",
   "name": "python",
   "nbconvert_exporter": "python",
   "pygments_lexer": "ipython3",
   "version": "3.7.3"
  }
 },
 "nbformat": 4,
 "nbformat_minor": 2
}
