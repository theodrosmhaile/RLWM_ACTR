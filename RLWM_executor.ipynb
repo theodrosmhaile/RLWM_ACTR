{
 "cells": [
  {
   "cell_type": "code",
   "execution_count": 1,
   "metadata": {},
   "outputs": [
    {
     "name": "stdout",
     "output_type": "stream",
     "text": [
      "ACT-R connection has been started.\n"
     ]
    },
    {
     "ename": "NameError",
     "evalue": "name 'Z' is not defined",
     "output_type": "error",
     "traceback": [
      "\u001b[0;31m---------------------------------------------------------------------------\u001b[0m",
      "\u001b[0;31mNameError\u001b[0m                                 Traceback (most recent call last)",
      "\u001b[0;32m<ipython-input-1-02213fd4efee>\u001b[0m in \u001b[0;36m<module>\u001b[0;34m\u001b[0m\n\u001b[1;32m      6\u001b[0m \u001b[0;32mimport\u001b[0m \u001b[0mactr\u001b[0m\u001b[0;34m\u001b[0m\u001b[0;34m\u001b[0m\u001b[0m\n\u001b[1;32m      7\u001b[0m \u001b[0;34m\u001b[0m\u001b[0m\n\u001b[0;32m----> 8\u001b[0;31m \u001b[0mZ\u001b[0m\u001b[0;34m\u001b[0m\u001b[0;34m\u001b[0m\u001b[0m\n\u001b[0m\u001b[1;32m      9\u001b[0m \u001b[0;34m\u001b[0m\u001b[0m\n",
      "\u001b[0;31mNameError\u001b[0m: name 'Z' is not defined"
     ]
    }
   ],
   "source": [
    "import random as rnd\n",
    "import numpy as np\n",
    "import os\n",
    "import sys\n",
    "import string\n",
    "import actr\n",
    "\n",
    "\n",
    "        "
   ]
  },
  {
   "cell_type": "code",
   "execution_count": 4,
   "metadata": {},
   "outputs": [
    {
     "name": "stdout",
     "output_type": "stream",
     "text": [
      "#|Warning: Creating chunk YES with no slots |#\n",
      "#|Warning: Chunks extended with slot PREPARATION during a chunk-spec definition. |#\n",
      "#|Warning: Chunks extended with slot PROCESSOR during a chunk-spec definition. |#\n",
      "#|Warning: Chunks extended with slot EXECUTION during a chunk-spec definition. |#\n",
      "#|Warning: Creating chunk CUP with no slots |#\n",
      "#|Warning: Creating chunk BOWL with no slots |#\n",
      "#|Warning: Creating chunk PLATE with no slots |#\n",
      "#|Warning: Creating chunk HAT with no slots |#\n",
      "#|Warning: Creating chunk GLOVES with no slots |#\n",
      "#|Warning: Creating chunk SHOES with no slots |#\n",
      "#|Warning: Creating chunk SHIRT with no slots |#\n",
      "#|Warning: Creating chunk JACKET with no slots |#\n",
      "#|Warning: Creating chunk JEANS with no slots |#\n",
      "#|Warning: Creating chunk NO with no slots |#\n",
      "#|Warning: Subsymbolic parameters have been set but :esc is currently nil. |#\n",
      "     0.000   GOAL                   SET-BUFFER-CHUNK GOAL MAKE-RESPONSE NIL\n",
      "0\n",
      "     0.000   PROCEDURAL             CONFLICT-RESOLUTION\n",
      "     0.050   PROCEDURAL             PRODUCTION-FIRED CUP-L\n",
      "     0.050   GOAL                   MOD-BUFFER-CHUNK GOAL\n",
      "     0.050   PROCEDURAL             CLEAR-BUFFER VISUAL\n",
      "     0.050   PROCEDURAL             CLEAR-BUFFER MANUAL\n",
      "     0.050   MOTOR                  PUNCH HAND RIGHT FINGER RING\n",
      "     0.050   PROCEDURAL             CONFLICT-RESOLUTION\n",
      "     0.200   PROCEDURAL             CONFLICT-RESOLUTION\n",
      "     0.250   PROCEDURAL             CONFLICT-RESOLUTION\n",
      "     0.260   PROCEDURAL             CONFLICT-RESOLUTION\n",
      "     0.350   PROCEDURAL             CONFLICT-RESOLUTION\n",
      "     0.350   ------                 Stopped because no events left to process\n"
     ]
    },
    {
     "data": {
      "text/plain": [
       "['get_response']"
      ]
     },
     "execution_count": 4,
     "metadata": {},
     "output_type": "execute_result"
    }
   ],
   "source": [
    "model = actr.load_act_r_model('/home/master-tedward/RLWM_ACTR/rlwm_model1.lisp')\n",
    "\n",
    "\n",
    "#present feedback\n",
    "#list stim. \n",
    "stims_3 = ['cup','bowl','plate']\n",
    "stims_6 = ['hat','gloves','shoes', 'shirt', 'jacket', 'jeans']\n",
    "\n",
    "#associated responses (these are arbitrary)\n",
    "stims_3_resps = ['j', 'k', 'k'];\n",
    "stims_6_resps = ['k','k', 'j', 'j', 'l', 'l'];\n",
    "\n",
    "stims = rnd.choices(stims_3, k=25)\n",
    "chunks = None\n",
    "current_response = None\n",
    "cor_resps = None\n",
    "i = 0\n",
    "win = None\n",
    "key = None\n",
    "welp = None\n",
    "\n",
    "#index i needs defining\n",
    "\n",
    "#Daisy chained python functions to present stimuli, get response and  present feedback\n",
    "\n",
    "def present_stim():\n",
    "    global chunks\n",
    "    global stims\n",
    "    global i\n",
    "    chunks = actr.define_chunks(['isa', 'stimulus', 'picture', stims[i]])\n",
    "    actr.set_buffer_chunk('visual', chunks[0])\n",
    "    \n",
    "    print(i)\n",
    "       \n",
    "    \n",
    "def get_response(): #(model, key):\n",
    "    global current_response\n",
    "    global i\n",
    "    global key\n",
    "    \n",
    "    actr.schedule_event_relative(0.5, 'present_feedback')# changes event to 1 from 0\n",
    "    current_response = key\n",
    "   \n",
    "    i = i + 1\n",
    "    return current_response\n",
    "\n",
    "def present_feedback():\n",
    "    global current_response\n",
    "    feedback = 'no'\n",
    " \n",
    "    # check if response matches the appropriate key for the current stimulus in cue\n",
    "    #need list of correct responses\n",
    "    if current_response == cor_resps[i]:\n",
    "        feedback = 'yes'\n",
    "    \n",
    "    chunks = actr.define_chunks(['isa', 'feedback', 'feedback',feedback])\n",
    "    actr.set_buffer_chunk('visual', chunks[0])\n",
    "    actr.schedule_event_relative(1, 'present_stim')\n",
    "\n",
    "\n",
    "def make_random_stim_list(LIST):\n",
    "    return rnd.choices(LIST, k=50)\n",
    "\n",
    "# This function builds ACT-R representations of the python functions\n",
    "\n",
    "def model_loop():\n",
    "    global win\n",
    "    global welp\n",
    "    actr.add_command('present_stim', present_stim, 'presents stimulus') \n",
    "    actr.add_command('present_feedback', present_feedback, 'presents feedback')\n",
    "    actr.add_command('get_response', get_response, 'gets response')\n",
    "    \n",
    "    #open window for interaction\n",
    "    win = actr.open_exp_window(\"test\", visible=False)\n",
    "    actr.install_device(win)\n",
    "    actr.schedule_event_relative(0, 'present_stim' )\n",
    "    \n",
    "    #waits for a key press?\n",
    "    welp = actr.monitor_command(\"output-key\", 'get_response')\n",
    "    actr.run(1)\n",
    "    return welp\n",
    "\n",
    "#stims = make_random_stim_list(stims_6)   \n",
    "#I think this needs a simulator?\n",
    "#def simulator():\n",
    "#actr.run(1)    \n",
    "model_loop()\n",
    "      \n",
    "\n"
   ]
  },
  {
   "cell_type": "code",
   "execution_count": null,
   "metadata": {},
   "outputs": [],
   "source": [
    "actr.set_buffer_chunk('visual', chunks[0])\n",
    "    "
   ]
  },
  {
   "cell_type": "code",
   "execution_count": null,
   "metadata": {},
   "outputs": [],
   "source": [
    "actr.run(1)"
   ]
  },
  {
   "cell_type": "code",
   "execution_count": null,
   "metadata": {},
   "outputs": [],
   "source": [
    "whos"
   ]
  },
  {
   "cell_type": "code",
   "execution_count": null,
   "metadata": {
    "scrolled": true
   },
   "outputs": [],
   "source": [
    "print(stims)"
   ]
  },
  {
   "cell_type": "code",
   "execution_count": null,
   "metadata": {},
   "outputs": [],
   "source": []
  },
  {
   "cell_type": "code",
   "execution_count": null,
   "metadata": {},
   "outputs": [],
   "source": []
  },
  {
   "cell_type": "code",
   "execution_count": 5,
   "metadata": {},
   "outputs": [
    {
     "name": "stdout",
     "output_type": "stream",
     "text": [
      "Command \"get_response\" already on the after list for command \"output-key\".\n"
     ]
    },
    {
     "data": {
      "text/plain": [
       "False"
      ]
     },
     "execution_count": 5,
     "metadata": {},
     "output_type": "execute_result"
    }
   ],
   "source": [
    "actr.monitor_command(\"output-key\", 'get_response')"
   ]
  },
  {
   "cell_type": "code",
   "execution_count": null,
   "metadata": {},
   "outputs": [],
   "source": []
  }
 ],
 "metadata": {
  "kernelspec": {
   "display_name": "Python 3",
   "language": "python",
   "name": "python3"
  },
  "language_info": {
   "codemirror_mode": {
    "name": "ipython",
    "version": 3
   },
   "file_extension": ".py",
   "mimetype": "text/x-python",
   "name": "python",
   "nbconvert_exporter": "python",
   "pygments_lexer": "ipython3",
   "version": "3.7.3"
  }
 },
 "nbformat": 4,
 "nbformat_minor": 2
}
