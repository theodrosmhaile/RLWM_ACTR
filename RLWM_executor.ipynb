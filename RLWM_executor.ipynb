{
 "cells": [
  {
   "cell_type": "code",
   "execution_count": 4,
   "metadata": {},
   "outputs": [],
   "source": [
    "import random as rnd\n",
    "import numpy as np\n",
    "import os\n",
    "import sys\n",
    "import string\n",
    "import actr\n",
    "\n",
    "\n",
    "\n",
    "        "
   ]
  },
  {
   "cell_type": "code",
   "execution_count": null,
   "metadata": {},
   "outputs": [],
   "source": [
    "\n",
    "#get response\n",
    "\n",
    "#present feedback\n",
    "#list stim. \n",
    "stims_3 = ['cup','bowl','plate']\n",
    "stims_6 = ['hat','gloves','shoes', 'shirt', 'jacket', 'jeans']\n",
    "\n",
    "stims = None\n",
    "chunks = None\n",
    "current_response = None\n",
    "i = 0\n",
    "\n",
    "#index i needs defining\n",
    "\n",
    "#Daisy chained python functions to present stimuli, get response and  present feedback\n",
    "\n",
    "def present_stim():\n",
    "    global chunks\n",
    "    chunks = actr.define_chunks([['isa', 'stimulus', 'picture', stims[i]]])\n",
    "    print(type(chunks))\n",
    "    actr.set_buffer_chunk('visual', chunks[0])\n",
    "    \n",
    "    \n",
    "def present_feedback():\n",
    "    feedback = 'no'\n",
    "    if current_response == 'j':\n",
    "        feedback = 'yes'\n",
    "        \n",
    "    chunks = actr.define_chunks([['isa', 'feedback', 'feedback',feedback]])\n",
    "    actr.set_buffer_chunk('visual', chunks[0])\n",
    "    actr.schedule_event_relative(1, 'present_stim')\n",
    "    \n",
    "def get_response(model, key):\n",
    "    global current_response\n",
    "    global i\n",
    "    current_response = key\n",
    "    actr.schedule_event_relative(0, 'present_feedback')\n",
    "    i = i + 1\n",
    "\n",
    "def make_random_stim_list(LIST):\n",
    "    return rnd.choices(LIST, k=50)\n",
    "\n",
    "# This function builds ACT-R representations of the python functions\n",
    "\n",
    "def model_loop():\n",
    "    \n",
    "    actr.add_command('present_stim', present_stim, 'presents stimulus') \n",
    "    actr.add_command('present_feedback', present_feedback, 'presents feedback')\n",
    "    actr.add_command('get_response', get_response, 'gets response')\n",
    "    \n",
    "    actr.monitor_command('output-key', 'get_response')\n",
    "    actr.schedule_event_relative(0, 'present_stim' )\n",
    "    \n",
    "\n",
    "#stims = make_random_stim_list(stims_6)   \n",
    "#I think this needs a simulator?\n",
    "#def simulator():\n",
    "#actr.run(1)    \n",
    "\n",
    "      \n",
    "\n"
   ]
  },
  {
   "cell_type": "code",
   "execution_count": null,
   "metadata": {},
   "outputs": [],
   "source": [
    "model_loop()\n"
   ]
  },
  {
   "cell_type": "code",
   "execution_count": null,
   "metadata": {
    "scrolled": false
   },
   "outputs": [],
   "source": [
    "actr.load_act_r_model('~/RLWM_ACTR/rlwm_model1.lisp')\n",
    "chunks=actr.define_chunks([['poptart-k', 'isa', 'stimulus', 'picture', 'Poptart']])\n"
   ]
  }
 ],
 "metadata": {
  "kernelspec": {
   "display_name": "Python 3",
   "language": "python",
   "name": "python3"
  },
  "language_info": {
   "codemirror_mode": {
    "name": "ipython",
    "version": 3
   },
   "file_extension": ".py",
   "mimetype": "text/x-python",
   "name": "python",
   "nbconvert_exporter": "python",
   "pygments_lexer": "ipython3",
   "version": "3.7.1"
  }
 },
 "nbformat": 4,
 "nbformat_minor": 2
}
