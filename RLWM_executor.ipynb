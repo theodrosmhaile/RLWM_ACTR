{
 "cells": [
  {
   "cell_type": "code",
   "execution_count": 1,
   "metadata": {},
   "outputs": [
    {
     "name": "stdout",
     "output_type": "stream",
     "text": [
      "ACT-R connection has been started.\n"
     ]
    }
   ],
   "source": [
    "import actr\n",
    "import random as rnd\n",
    "import numpy as np\n",
    "import os\n",
    "import sys\n",
    "import string\n",
    "\n",
    "\n",
    "        "
   ]
  },
  {
   "cell_type": "code",
   "execution_count": null,
   "metadata": {},
   "outputs": [],
   "source": [
    "#present to the model\n",
    "\n",
    "#get response\n",
    "\n",
    "#present feedback\n",
    "#list stim. \n",
    "stims = ['cup','bowl','plate']\n",
    "current_response = None\n",
    "#index i needs defining\n",
    "\n",
    "def present_stim():\n",
    "    chunks = actr.define_chunks([['isa', 'stimulus', 'picture', stims[i]]])\n",
    "    actr.set_buffer_chunk('visual', chunks[0])\n",
    "    \n",
    "    \n",
    "def present_feedback():\n",
    "    feedback = 'no'\n",
    "    if current_response == 'j':\n",
    "        feedback = 'yes'\n",
    "        \n",
    "    chunks = actr.define_chunks([['isa', 'feedback', 'feedback',feedback]])\n",
    "    actr.set_buffer_chunk('visual', chunks[0])\n",
    "    actr.schedule_event_relative(1, 'present_stim')\n",
    "    \n",
    "def get_response(model, key):\n",
    "    global current_response\n",
    "    current_response = key\n",
    "    actr.schedule_event_relative(0, 'present_feedback')\n",
    "\n",
    "\n",
    "def model_loop ():\n",
    "    \n",
    "    actr.add_command('present_stim', present_stim, 'presents stimulus') \n",
    "    actr.add_command('present_feedback', present_feedback, 'presents feedback')\n",
    "    actr.add_command('get_response', get_response, 'gets response')\n",
    "    \n",
    "    actr.monitor_command('output-key', 'get_response')\n",
    "    actr.schedule_event_relative(0, 'present_stim' )\n",
    "\n",
    "\n",
    "        \n",
    "      \n",
    "\n"
   ]
  },
  {
   "cell_type": "code",
   "execution_count": null,
   "metadata": {},
   "outputs": [],
   "source": []
  }
 ],
 "metadata": {
  "kernelspec": {
   "display_name": "Python 3",
   "language": "python",
   "name": "python3"
  },
  "language_info": {
   "codemirror_mode": {
    "name": "ipython",
    "version": 3
   },
   "file_extension": ".py",
   "mimetype": "text/x-python",
   "name": "python",
   "nbconvert_exporter": "python",
   "pygments_lexer": "ipython3",
   "version": "3.7.1"
  }
 },
 "nbformat": 4,
 "nbformat_minor": 2
}
