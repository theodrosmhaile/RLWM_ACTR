{
 "cells": [
  {
   "cell_type": "code",
<<<<<<< HEAD
   "execution_count": 1,
   "metadata": {},
   "outputs": [
    {
     "name": "stdout",
     "output_type": "stream",
     "text": [
      "ACT-R connection has been started.\n"
     ]
    }
   ],
=======
   "execution_count": null,
   "metadata": {},
   "outputs": [],
>>>>>>> 8bc4b489088ffb4777358044f90729185ae8141b
   "source": [
    "import random as rnd\n",
    "import numpy as np\n",
    "import os\n",
    "import sys\n",
    "import string\n",
    "import actr\n",
    "\n",
    "\n",
    "        "
   ]
  },
  {
   "cell_type": "code",
<<<<<<< HEAD
   "execution_count": 2,
=======
   "execution_count": null,
>>>>>>> 8bc4b489088ffb4777358044f90729185ae8141b
   "metadata": {},
   "outputs": [
    {
     "name": "stdout",
     "output_type": "stream",
     "text": [
      "#|Warning: Creating chunk YES with no slots |#\n",
      "#|Warning: Chunks extended with slot PREPARATION during a chunk-spec definition. |#\n",
      "#|Warning: Chunks extended with slot PROCESSOR during a chunk-spec definition. |#\n",
      "#|Warning: Chunks extended with slot EXECUTION during a chunk-spec definition. |#\n",
      "#|Warning: Creating chunk CUP with no slots |#\n",
      "#|Warning: Creating chunk BOWL with no slots |#\n",
      "#|Warning: Creating chunk PLATE with no slots |#\n",
      "#|Warning: Creating chunk HAT with no slots |#\n",
      "#|Warning: Creating chunk GLOVES with no slots |#\n",
      "#|Warning: Creating chunk SHOES with no slots |#\n",
      "#|Warning: Creating chunk SHIRT with no slots |#\n",
      "#|Warning: Creating chunk JACKET with no slots |#\n",
      "#|Warning: Creating chunk JEANS with no slots |#\n",
      "#|Warning: Creating chunk NO with no slots |#\n",
      "#|Warning: set-buffer-chunk called with an invalid chunk name CUP-STIMULUS |#\n"
     ]
    }
   ],
   "source": [
<<<<<<< HEAD
    "model = actr.load_act_r_model('/home/master-tedward/RLWM_ACTR/rlwm_model1.lisp')\n",
=======
    "model = actr.load_act_r_model('/home/theodros/RLWM_ACTR/rlwm_model1.lisp')\n",
>>>>>>> 8bc4b489088ffb4777358044f90729185ae8141b
    "\n",
    "\n",
    "#present feedback\n",
    "#list stim. \n",
    "stims_3 = ['cup','bowl','plate']\n",
    "stims_6 = ['hat','gloves','shoes', 'shirt', 'jacket', 'jeans']\n",
    "\n",
    "#associated responses (these are arbitrary)\n",
    "stims_3_resps = ['j', 'k', 'k'];\n",
    "stims_6_resps = ['k','k', 'j', 'j', 'l', 'l'];\n",
    "\n",
    "stims = rnd.choices(stims_3, k=25)\n",
    "chunks = None\n",
    "current_response = None\n",
    "cor_resps = None\n",
    "i = 0\n",
    "win = None\n",
    "#index i needs defining\n",
    "\n",
    "#Daisy chained python functions to present stimuli, get response and  present feedback\n",
    "\n",
    "def present_stim():\n",
    "    global chunks\n",
    "    global stims\n",
    "    global i\n",
    "    chunks = actr.define_chunks(['isa', 'stimulus', 'picture', stims[i]])\n",
    "    actr.set_buffer_chunk('visual', chunks[0])\n",
    "    \n",
    "    print(i)\n",
<<<<<<< HEAD
    "    #actr.schedule_event_relative(0, 'get_response')\n",
=======
    "    \n",
>>>>>>> 8bc4b489088ffb4777358044f90729185ae8141b
    "    \n",
    "def present_feedback():\n",
    "    feedback = 'no'\n",
    " \n",
    "    # check if response matches the appropriate key for the current stimulus in cue\n",
<<<<<<< HEAD
    "    if 1:#current_response == cor_resps[i]:\n",
=======
    "    #need list of correct responses\n",
    "    if current_response == cor_resps[i]:\n",
>>>>>>> 8bc4b489088ffb4777358044f90729185ae8141b
    "        feedback = 'yes'\n",
    "    \n",
    "    chunks = actr.define_chunks(['isa', 'feedback', 'feedback',feedback])\n",
    "    actr.set_buffer_chunk('visual', chunks[0])\n",
    "    actr.schedule_event_relative(1, 'present_stim')\n",
    "    \n",
    "def get_response(): #(model, key):\n",
    "    global current_response\n",
    "    global i\n",
    "    current_response = key\n",
    "    actr.schedule_event_relative(0, 'present_feedback')\n",
    "    i = i + 1\n",
    "\n",
    "def make_random_stim_list(LIST):\n",
    "    return rnd.choices(LIST, k=50)\n",
    "\n",
    "# This function builds ACT-R representations of the python functions\n",
    "\n",
    "def model_loop():\n",
    "    global win\n",
    "    actr.add_command('present_stim', present_stim, 'presents stimulus') \n",
    "    actr.add_command('present_feedback', present_feedback, 'presents feedback')\n",
    "    actr.add_command('get_response', get_response, 'gets response')\n",
    "    \n",
    "    #open window for interaction\n",
<<<<<<< HEAD
    "    win = actr.open_exp_window(\"test\", visible=True)\n",
=======
    "    win = actr.open_exp_window(\"test\", visible=False)\n",
>>>>>>> 8bc4b489088ffb4777358044f90729185ae8141b
    "    actr.install_device(win)\n",
    "    actr.schedule_event_relative(0, 'present_stim' )\n",
    "    \n",
    "    #waits for a key press?\n",
<<<<<<< HEAD
    "    actr.monitor_command('output-key', 'get_response')\n",
    "    \n",
=======
    "    actr.monitor_command(\"output-key\", 'get_response')\n",
    "    actr.run(1)\n",
>>>>>>> 8bc4b489088ffb4777358044f90729185ae8141b
    "    \n",
    "\n",
    "#stims = make_random_stim_list(stims_6)   \n",
    "#I think this needs a simulator?\n",
    "#def simulator():\n",
    "#actr.run(1)    \n",
    "model_loop()\n",
    "      \n",
    "\n"
   ]
  },
  {
   "cell_type": "code",
   "execution_count": null,
   "metadata": {},
   "outputs": [],
   "source": [
    "actr.set_buffer_chunk('visual', chunks[0])\n",
    "    "
   ]
  },
  {
   "cell_type": "code",
   "execution_count": null,
   "metadata": {},
<<<<<<< HEAD
   "outputs": [],
   "source": [
    "stims_3_resps = ['j', 'k', 'k'];\n",
    "idx = np.array(rnd.choices([1,2,3], k=20))"
=======
   "outputs": [],
   "source": [
    "actr.run(1)"
   ]
  },
  {
   "cell_type": "code",
   "execution_count": null,
   "metadata": {},
   "outputs": [],
   "source": [
    "whos"
>>>>>>> 8bc4b489088ffb4777358044f90729185ae8141b
   ]
  },
  {
   "cell_type": "code",
<<<<<<< HEAD
   "execution_count": 4,
   "metadata": {},
   "outputs": [
    {
     "name": "stdout",
     "output_type": "stream",
     "text": [
      "Variable                Type        Data/Info\n",
      "---------------------------------------------\n",
      "actr                    module      <module 'actr' from '/hom<...>dward/RLWM_ACTR/actr.py'>\n",
      "chunks                  NoneType    None\n",
      "cor_resps               NoneType    None\n",
      "current_response        NoneType    None\n",
      "get_response            function    <function get_response at 0x7fcbe3ca0620>\n",
      "i                       int         0\n",
      "make_random_stim_list   function    <function make_random_sti<...>m_list at 0x7fcbe3ca06a8>\n",
      "model                   bool        True\n",
      "model_loop              function    <function model_loop at 0x7fcbe3ca07b8>\n",
      "np                      module      <module 'numpy' from '/us<...>kages/numpy/__init__.py'>\n",
      "os                      module      <module 'os' from '/usr/lib/python3.7/os.py'>\n",
      "present_feedback        function    <function present_feedback at 0x7fcbe3ca0510>\n",
      "present_stim            function    <function present_stim at 0x7fcbe3ca0598>\n",
      "rnd                     module      <module 'random' from '/u<...>lib/python3.7/random.py'>\n",
      "stims                   list        n=25\n",
      "stims_3                 list        n=3\n",
      "stims_3_resps           list        n=3\n",
      "stims_6                 list        n=6\n",
      "stims_6_resps           list        n=6\n",
      "string                  module      <module 'string' from '/u<...>lib/python3.7/string.py'>\n",
      "sys                     module      <module 'sys' (built-in)>\n",
      "win                     list        n=3\n"
     ]
    }
   ],
   "source": [
    "whos"
   ]
  },
  {
   "cell_type": "code",
   "execution_count": null,
   "metadata": {},
   "outputs": [],
   "source": [
    "actr.mp_show_queue()"
=======
   "execution_count": null,
   "metadata": {
    "scrolled": true
   },
   "outputs": [],
   "source": [
    "print(stims)"
>>>>>>> 8bc4b489088ffb4777358044f90729185ae8141b
   ]
  },
  {
   "cell_type": "code",
<<<<<<< HEAD
   "execution_count": 9,
   "metadata": {},
   "outputs": [
    {
     "data": {
      "text/plain": [
       "7"
      ]
     },
     "execution_count": 9,
     "metadata": {},
     "output_type": "execute_result"
    }
   ],
   "source": [
    "#chunks = actr.define_chunks(['isa', 'stimulus', 'picture', stims[1]])\n",
    "#actr.set_buffer_chunk('visual', chunks[0])\n",
    "actr.schedule_event_relative(1, 'present_stim')"
=======
   "execution_count": null,
   "metadata": {},
   "outputs": [],
   "source": []
  },
  {
   "cell_type": "code",
   "execution_count": null,
   "metadata": {},
   "outputs": [],
   "source": [
    "print(i)"
>>>>>>> 8bc4b489088ffb4777358044f90729185ae8141b
   ]
  },
  {
   "cell_type": "code",
   "execution_count": 7,
   "metadata": {},
   "outputs": [
    {
     "name": "stdout",
     "output_type": "stream",
     "text": [
      "['cup', 'plate', 'cup', 'cup', 'bowl', 'plate', 'bowl', 'plate', 'plate', 'bowl', 'cup', 'bowl', 'cup', 'bowl', 'plate', 'cup', 'bowl', 'bowl', 'cup', 'cup', 'cup', 'bowl', 'bowl', 'cup', 'bowl']\n"
     ]
    }
   ],
   "source": [
    "print(stims)"
   ]
  },
  {
   "cell_type": "code",
   "execution_count": 10,
   "metadata": {},
   "outputs": [
    {
     "name": "stdout",
     "output_type": "stream",
     "text": [
      "Events in the queue:\n",
      "     0.000   NONE                   CHECK-FOR-ESC-NIL\n",
      "     0.000   GOAL                   SET-BUFFER-CHUNK GOAL MAKE-RESPONSE NIL\n",
      "     0.000   NONE                   present_stim\n",
      "     0.000   NONE                   present_stim\n",
      "     0.000   PROCEDURAL             CONFLICT-RESOLUTION\n",
      "     0.000   GOAL                   CLEAR-DELAYED-GOAL\n",
      "     1.000   NONE                   present_stim\n"
     ]
    },
    {
     "data": {
      "text/plain": [
       "7"
      ]
     },
     "execution_count": 10,
     "metadata": {},
     "output_type": "execute_result"
    }
   ],
   "source": []
  },
  {
   "cell_type": "code",
   "execution_count": null,
   "metadata": {},
   "outputs": [],
   "source": []
<<<<<<< HEAD
=======
  },
  {
   "cell_type": "code",
   "execution_count": null,
   "metadata": {},
   "outputs": [],
   "source": [
    "#event incrementation??"
   ]
>>>>>>> 8bc4b489088ffb4777358044f90729185ae8141b
  }
 ],
 "metadata": {
  "kernelspec": {
   "display_name": "Python 3",
   "language": "python",
   "name": "python3"
  },
  "language_info": {
   "codemirror_mode": {
    "name": "ipython",
    "version": 3
   },
   "file_extension": ".py",
   "mimetype": "text/x-python",
   "name": "python",
   "nbconvert_exporter": "python",
   "pygments_lexer": "ipython3",
<<<<<<< HEAD
   "version": "3.7.3"
=======
   "version": "3.7.4"
>>>>>>> 8bc4b489088ffb4777358044f90729185ae8141b
  }
 },
 "nbformat": 4,
 "nbformat_minor": 2
}
