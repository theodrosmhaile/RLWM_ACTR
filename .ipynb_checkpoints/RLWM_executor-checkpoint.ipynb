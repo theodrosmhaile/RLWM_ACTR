{
 "cells": [
  {
   "cell_type": "code",
<<<<<<< HEAD
   "execution_count": null,
   "metadata": {},
   "outputs": [],
=======
<<<<<<< HEAD
   "execution_count": null,
   "metadata": {},
   "outputs": [],
=======
   "execution_count": 1,
   "metadata": {},
   "outputs": [
    {
     "name": "stdout",
     "output_type": "stream",
     "text": [
      "ACT-R port number file /home/theodros/act-r-port-num.txt not found. Using default or 2650.\n",
      "ACT-R host file /home/theodros/act-r-address.txt not found. Using default of 127.0.0.1.\n",
      "ACT-R connection has been started.\n"
     ]
    }
   ],
>>>>>>> e071e1cdb759d7a36ba3158ddc32cab891a1c961
>>>>>>> ed7cd40aac394a7553fd588c88e8471a28a89c34
   "source": [
    "import random as rnd\n",
    "import numpy as np\n",
    "import os\n",
    "import sys\n",
    "import string\n",
    "import actr\n",
    "\n",
    "\n",
    "        "
   ]
  },
  {
   "cell_type": "code",
<<<<<<< HEAD
   "execution_count": null,
=======
<<<<<<< HEAD
   "execution_count": null,
=======
   "execution_count": 2,
>>>>>>> e071e1cdb759d7a36ba3158ddc32cab891a1c961
>>>>>>> ed7cd40aac394a7553fd588c88e8471a28a89c34
   "metadata": {},
   "outputs": [],
   "source": [
    "\n",
    "#get response\n",
    "\n",
    "#present feedback\n",
    "#list stim. \n",
    "stims_3 = ['cup','bowl','plate']\n",
    "stims_6 = ['hat','gloves','shoes', 'shirt', 'jacket', 'jeans']\n",
    "\n",
    "#associated responses (these are arbitrary)\n",
    "stims_3_resps = ['j', 'k', 'k'];\n",
    "stims_6_resps = ['k','k', 'j', 'j', 'l', 'l'];\n",
    "\n",
    "stims = None\n",
    "chunks = None\n",
    "current_response = None\n",
    "cor_resps = None\n",
    "i = 0\n",
    "win = None\n",
    "#index i needs defining\n",
    "\n",
    "#Daisy chained python functions to present stimuli, get response and  present feedback\n",
    "\n",
    "def present_stim():\n",
    "    global chunks\n",
    "    global stims\n",
    "    global i\n",
    "    chunks = actr.define_chunks(['isa', 'stimulus', 'picture', stims[i]])\n",
    "    actr.set_buffer_chunk('visual', chunks[0])\n",
    "    print('done')\n",
    "    print(i)\n",
    "    actr.schedule_event_relative(0, 'get_response')\n",
    "    \n",
    "def present_feedback():\n",
    "    feedback = 'no'\n",
    " \n",
    "    # check if response matches the appropriate key for the current stimulus in cue\n",
    "    if current_response == cor_resps[i]:\n",
    "        feedback = 'yes'\n",
    "    \n",
    "    chunks = actr.define_chunks(['isa', 'feedback', 'feedback',feedback])\n",
    "    actr.set_buffer_chunk('visual', chunks[0])\n",
    "    actr.schedule_event_relative(1, 'present_stim')\n",
    "    \n",
    "def get_response(model, key):\n",
    "    global current_response\n",
    "    global i\n",
    "    current_response = key\n",
    "    actr.schedule_event_relative(0, 'present_feedback')\n",
    "    i = i + 1\n",
    "\n",
    "def make_random_stim_list(LIST):\n",
    "    return rnd.choices(LIST, k=50)\n",
    "\n",
    "# This function builds ACT-R representations of the python functions\n",
    "\n",
    "def model_loop():\n",
    "    global win\n",
    "    actr.add_command('present_stim', present_stim, 'presents stimulus') \n",
    "    actr.add_command('present_feedback', present_feedback, 'presents feedback')\n",
    "    actr.add_command('get_response', get_response, 'gets response')\n",
    "    \n",
    "    actr.monitor_command('output-key', 'get_response')\n",
    "    win = actr.open_exp_window(\"test\", visible=False)\n",
    "    actr.install_device(win)\n",
    "    actr.schedule_event_relative(0, 'present_stim' )\n",
    "  \n",
    "\n",
    "#stims = make_random_stim_list(stims_6)   \n",
    "#I think this needs a simulator?\n",
    "#def simulator():\n",
    "#actr.run(1)    \n",
    "\n",
    "      \n",
    "\n"
   ]
  },
  {
   "cell_type": "code",
   "execution_count": null,
   "metadata": {},
   "outputs": [],
   "source": [
    "model_loop()\n"
   ]
  },
  {
   "cell_type": "code",
<<<<<<< HEAD
   "execution_count": null,
=======
<<<<<<< HEAD
   "execution_count": null,
   "metadata": {
    "scrolled": false
   },
   "outputs": [],
   "source": [
    "actr.load_act_r_model('~/RLWM_ACTR/rlwm_model1.lisp')\n",
    "chunks=actr.define_chunks([['poptart-k', 'isa', 'stimulus', 'picture', 'Poptart']])\n"
   ]
=======
   "execution_count": 5,
>>>>>>> ed7cd40aac394a7553fd588c88e8471a28a89c34
   "metadata": {
    "scrolled": false
   },
   "outputs": [],
   "source": [
    "actr.load_act_r_model('/home/theodros/RLWM_ACTR/rlwm_model1.lisp')\n",
    "#chunks=actr.define_chunks(['poptart-k', 'isa', 'stimulus', 'picture', 'Poptart'])\n"
   ]
  },
  {
   "cell_type": "code",
   "execution_count": null,
   "metadata": {},
   "outputs": [],
   "source": [
    " actr.set_buffer_chunk('visual', chunks[0])\n",
    "    "
   ]
  },
  {
   "cell_type": "code",
   "execution_count": null,
   "metadata": {},
   "outputs": [],
   "source": [
    "stims_3_resps = ['j', 'k', 'k'];\n",
    "idx = np.array(rnd.choices([1,2,3], k=20))"
   ]
  },
  {
   "cell_type": "code",
   "execution_count": null,
   "metadata": {},
   "outputs": [],
   "source": [
    "stims = make_random_stim_list(stims_3)\n",
    "print(stims)\n",
    "\n",
    "present_stim()"
   ]
  },
  {
   "cell_type": "code",
   "execution_count": null,
   "metadata": {},
   "outputs": [],
   "source": [
    "model = actr.load_act_r_model('/home/theodros/RLWM_ACTR/rlwm_model1.lisp')\n"
   ]
  },
  {
   "cell_type": "code",
   "execution_count": null,
   "metadata": {},
   "outputs": [],
   "source": [
    "#model_loop()\n",
    "present_stim()"
   ]
  },
  {
   "cell_type": "code",
   "execution_count": null,
   "metadata": {},
   "outputs": [],
   "source": [
    "present_stim()"
   ]
  },
  {
   "cell_type": "code",
   "execution_count": null,
   "metadata": {},
   "outputs": [],
   "source": [
    "print(model)"
   ]
  },
  {
   "cell_type": "code",
   "execution_count": null,
   "metadata": {},
   "outputs": [],
   "source": [
    "whos"
   ]
  },
  {
   "cell_type": "code",
   "execution_count": null,
   "metadata": {},
   "outputs": [],
   "source": [
    "win = actr.open_exp_window(\"test\", visible=False)\n",
    "actr.install_device(win)"
   ]
  },
  {
   "cell_type": "code",
   "execution_count": null,
   "metadata": {},
   "outputs": [],
   "source": [
    "print(win)"
   ]
  },
  {
   "cell_type": "code",
   "execution_count": null,
   "metadata": {},
   "outputs": [],
   "source": [
    "model_loop()"
   ]
  },
  {
   "cell_type": "code",
   "execution_count": null,
   "metadata": {},
   "outputs": [],
   "source": [
    "print(i)"
   ]
  },
  {
   "cell_type": "code",
   "execution_count": null,
   "metadata": {},
   "outputs": [],
   "source": [
    "\n",
    "present_stim()"
   ]
  },
  {
   "cell_type": "code",
   "execution_count": null,
   "metadata": {},
   "outputs": [],
   "source": []
>>>>>>> e071e1cdb759d7a36ba3158ddc32cab891a1c961
  }
 ],
 "metadata": {
  "kernelspec": {
   "display_name": "Python 3",
   "language": "python",
   "name": "python3"
  },
  "language_info": {
   "codemirror_mode": {
    "name": "ipython",
    "version": 3
   },
   "file_extension": ".py",
   "mimetype": "text/x-python",
   "name": "python",
   "nbconvert_exporter": "python",
   "pygments_lexer": "ipython3",
<<<<<<< HEAD
   "version": "3.7.3"
=======
   "version": "3.7.4"
>>>>>>> e071e1cdb759d7a36ba3158ddc32cab891a1c961
  }
 },
 "nbformat": 4,
 "nbformat_minor": 2
}
